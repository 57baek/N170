{
 "cells": [
  {
   "cell_type": "markdown",
   "metadata": {},
   "source": [
    "Deep Learning Script for Classifying Stimulus Bbased on EEG Data"
   ]
  },
  {
   "cell_type": "code",
   "execution_count": null,
   "metadata": {},
   "outputs": [
    {
     "name": "stdout",
     "output_type": "stream",
     "text": [
      "Loading data for sub-021\n"
     ]
    },
    {
     "name": "stderr",
     "output_type": "stream",
     "text": [
      "/var/folders/dh/551p960n6mv9t9byzj8pp0640000gp/T/ipykernel_90719/952294026.py:47: RuntimeWarning: This filename (/Users/BAEK/Code/neurEx/data/N170/Data_Preprocessed/sub-021/Epochs_sub-021.fif) does not conform to MNE naming conventions. All epochs files should end with -epo.fif, -epo.fif.gz, _epo.fif or _epo.fif.gz\n",
      "  X_subject = mne.read_epochs(X_file, preload=True, verbose=False)\n"
     ]
    },
    {
     "name": "stdout",
     "output_type": "stream",
     "text": [
      "Loading data for sub-026\n",
      "Loading data for sub-019\n"
     ]
    },
    {
     "name": "stderr",
     "output_type": "stream",
     "text": [
      "/var/folders/dh/551p960n6mv9t9byzj8pp0640000gp/T/ipykernel_90719/952294026.py:47: RuntimeWarning: This filename (/Users/BAEK/Code/neurEx/data/N170/Data_Preprocessed/sub-026/Epochs_sub-026.fif) does not conform to MNE naming conventions. All epochs files should end with -epo.fif, -epo.fif.gz, _epo.fif or _epo.fif.gz\n",
      "  X_subject = mne.read_epochs(X_file, preload=True, verbose=False)\n",
      "/var/folders/dh/551p960n6mv9t9byzj8pp0640000gp/T/ipykernel_90719/952294026.py:47: RuntimeWarning: This filename (/Users/BAEK/Code/neurEx/data/N170/Data_Preprocessed/sub-019/Epochs_sub-019.fif) does not conform to MNE naming conventions. All epochs files should end with -epo.fif, -epo.fif.gz, _epo.fif or _epo.fif.gz\n",
      "  X_subject = mne.read_epochs(X_file, preload=True, verbose=False)\n"
     ]
    },
    {
     "name": "stdout",
     "output_type": "stream",
     "text": [
      "Loading data for sub-010\n",
      "Loading data for sub-017\n"
     ]
    },
    {
     "name": "stderr",
     "output_type": "stream",
     "text": [
      "/var/folders/dh/551p960n6mv9t9byzj8pp0640000gp/T/ipykernel_90719/952294026.py:47: RuntimeWarning: This filename (/Users/BAEK/Code/neurEx/data/N170/Data_Preprocessed/sub-010/Epochs_sub-010.fif) does not conform to MNE naming conventions. All epochs files should end with -epo.fif, -epo.fif.gz, _epo.fif or _epo.fif.gz\n",
      "  X_subject = mne.read_epochs(X_file, preload=True, verbose=False)\n",
      "/var/folders/dh/551p960n6mv9t9byzj8pp0640000gp/T/ipykernel_90719/952294026.py:47: RuntimeWarning: This filename (/Users/BAEK/Code/neurEx/data/N170/Data_Preprocessed/sub-017/Epochs_sub-017.fif) does not conform to MNE naming conventions. All epochs files should end with -epo.fif, -epo.fif.gz, _epo.fif or _epo.fif.gz\n",
      "  X_subject = mne.read_epochs(X_file, preload=True, verbose=False)\n"
     ]
    },
    {
     "name": "stdout",
     "output_type": "stream",
     "text": [
      "Loading data for sub-028\n",
      "Loading data for sub-016\n"
     ]
    },
    {
     "name": "stderr",
     "output_type": "stream",
     "text": [
      "/var/folders/dh/551p960n6mv9t9byzj8pp0640000gp/T/ipykernel_90719/952294026.py:47: RuntimeWarning: This filename (/Users/BAEK/Code/neurEx/data/N170/Data_Preprocessed/sub-028/Epochs_sub-028.fif) does not conform to MNE naming conventions. All epochs files should end with -epo.fif, -epo.fif.gz, _epo.fif or _epo.fif.gz\n",
      "  X_subject = mne.read_epochs(X_file, preload=True, verbose=False)\n",
      "/var/folders/dh/551p960n6mv9t9byzj8pp0640000gp/T/ipykernel_90719/952294026.py:47: RuntimeWarning: This filename (/Users/BAEK/Code/neurEx/data/N170/Data_Preprocessed/sub-016/Epochs_sub-016.fif) does not conform to MNE naming conventions. All epochs files should end with -epo.fif, -epo.fif.gz, _epo.fif or _epo.fif.gz\n",
      "  X_subject = mne.read_epochs(X_file, preload=True, verbose=False)\n"
     ]
    },
    {
     "name": "stdout",
     "output_type": "stream",
     "text": [
      "Loading data for sub-029\n",
      "Loading data for sub-011\n"
     ]
    },
    {
     "name": "stderr",
     "output_type": "stream",
     "text": [
      "/var/folders/dh/551p960n6mv9t9byzj8pp0640000gp/T/ipykernel_90719/952294026.py:47: RuntimeWarning: This filename (/Users/BAEK/Code/neurEx/data/N170/Data_Preprocessed/sub-029/Epochs_sub-029.fif) does not conform to MNE naming conventions. All epochs files should end with -epo.fif, -epo.fif.gz, _epo.fif or _epo.fif.gz\n",
      "  X_subject = mne.read_epochs(X_file, preload=True, verbose=False)\n",
      "/var/folders/dh/551p960n6mv9t9byzj8pp0640000gp/T/ipykernel_90719/952294026.py:47: RuntimeWarning: This filename (/Users/BAEK/Code/neurEx/data/N170/Data_Preprocessed/sub-011/Epochs_sub-011.fif) does not conform to MNE naming conventions. All epochs files should end with -epo.fif, -epo.fif.gz, _epo.fif or _epo.fif.gz\n",
      "  X_subject = mne.read_epochs(X_file, preload=True, verbose=False)\n"
     ]
    },
    {
     "name": "stdout",
     "output_type": "stream",
     "text": [
      "Loading data for sub-027\n",
      "Loading data for sub-018\n"
     ]
    },
    {
     "name": "stderr",
     "output_type": "stream",
     "text": [
      "/var/folders/dh/551p960n6mv9t9byzj8pp0640000gp/T/ipykernel_90719/952294026.py:47: RuntimeWarning: This filename (/Users/BAEK/Code/neurEx/data/N170/Data_Preprocessed/sub-027/Epochs_sub-027.fif) does not conform to MNE naming conventions. All epochs files should end with -epo.fif, -epo.fif.gz, _epo.fif or _epo.fif.gz\n",
      "  X_subject = mne.read_epochs(X_file, preload=True, verbose=False)\n",
      "/var/folders/dh/551p960n6mv9t9byzj8pp0640000gp/T/ipykernel_90719/952294026.py:47: RuntimeWarning: This filename (/Users/BAEK/Code/neurEx/data/N170/Data_Preprocessed/sub-018/Epochs_sub-018.fif) does not conform to MNE naming conventions. All epochs files should end with -epo.fif, -epo.fif.gz, _epo.fif or _epo.fif.gz\n",
      "  X_subject = mne.read_epochs(X_file, preload=True, verbose=False)\n"
     ]
    },
    {
     "name": "stdout",
     "output_type": "stream",
     "text": [
      "Loading data for sub-020\n",
      "Loading data for sub-002\n"
     ]
    },
    {
     "name": "stderr",
     "output_type": "stream",
     "text": [
      "/var/folders/dh/551p960n6mv9t9byzj8pp0640000gp/T/ipykernel_90719/952294026.py:47: RuntimeWarning: This filename (/Users/BAEK/Code/neurEx/data/N170/Data_Preprocessed/sub-020/Epochs_sub-020.fif) does not conform to MNE naming conventions. All epochs files should end with -epo.fif, -epo.fif.gz, _epo.fif or _epo.fif.gz\n",
      "  X_subject = mne.read_epochs(X_file, preload=True, verbose=False)\n",
      "/var/folders/dh/551p960n6mv9t9byzj8pp0640000gp/T/ipykernel_90719/952294026.py:47: RuntimeWarning: This filename (/Users/BAEK/Code/neurEx/data/N170/Data_Preprocessed/sub-002/Epochs_sub-002.fif) does not conform to MNE naming conventions. All epochs files should end with -epo.fif, -epo.fif.gz, _epo.fif or _epo.fif.gz\n",
      "  X_subject = mne.read_epochs(X_file, preload=True, verbose=False)\n"
     ]
    },
    {
     "name": "stdout",
     "output_type": "stream",
     "text": [
      "Loading data for sub-005\n",
      "Loading data for sub-033\n"
     ]
    },
    {
     "name": "stderr",
     "output_type": "stream",
     "text": [
      "/var/folders/dh/551p960n6mv9t9byzj8pp0640000gp/T/ipykernel_90719/952294026.py:47: RuntimeWarning: This filename (/Users/BAEK/Code/neurEx/data/N170/Data_Preprocessed/sub-005/Epochs_sub-005.fif) does not conform to MNE naming conventions. All epochs files should end with -epo.fif, -epo.fif.gz, _epo.fif or _epo.fif.gz\n",
      "  X_subject = mne.read_epochs(X_file, preload=True, verbose=False)\n",
      "/var/folders/dh/551p960n6mv9t9byzj8pp0640000gp/T/ipykernel_90719/952294026.py:47: RuntimeWarning: This filename (/Users/BAEK/Code/neurEx/data/N170/Data_Preprocessed/sub-033/Epochs_sub-033.fif) does not conform to MNE naming conventions. All epochs files should end with -epo.fif, -epo.fif.gz, _epo.fif or _epo.fif.gz\n",
      "  X_subject = mne.read_epochs(X_file, preload=True, verbose=False)\n"
     ]
    },
    {
     "name": "stdout",
     "output_type": "stream",
     "text": [
      "Loading data for sub-034\n",
      "Loading data for sub-035\n"
     ]
    },
    {
     "name": "stderr",
     "output_type": "stream",
     "text": [
      "/var/folders/dh/551p960n6mv9t9byzj8pp0640000gp/T/ipykernel_90719/952294026.py:47: RuntimeWarning: This filename (/Users/BAEK/Code/neurEx/data/N170/Data_Preprocessed/sub-034/Epochs_sub-034.fif) does not conform to MNE naming conventions. All epochs files should end with -epo.fif, -epo.fif.gz, _epo.fif or _epo.fif.gz\n",
      "  X_subject = mne.read_epochs(X_file, preload=True, verbose=False)\n",
      "/var/folders/dh/551p960n6mv9t9byzj8pp0640000gp/T/ipykernel_90719/952294026.py:47: RuntimeWarning: This filename (/Users/BAEK/Code/neurEx/data/N170/Data_Preprocessed/sub-035/Epochs_sub-035.fif) does not conform to MNE naming conventions. All epochs files should end with -epo.fif, -epo.fif.gz, _epo.fif or _epo.fif.gz\n",
      "  X_subject = mne.read_epochs(X_file, preload=True, verbose=False)\n"
     ]
    },
    {
     "name": "stdout",
     "output_type": "stream",
     "text": [
      "Loading data for sub-032\n",
      "Loading data for sub-004\n"
     ]
    },
    {
     "name": "stderr",
     "output_type": "stream",
     "text": [
      "/var/folders/dh/551p960n6mv9t9byzj8pp0640000gp/T/ipykernel_90719/952294026.py:47: RuntimeWarning: This filename (/Users/BAEK/Code/neurEx/data/N170/Data_Preprocessed/sub-032/Epochs_sub-032.fif) does not conform to MNE naming conventions. All epochs files should end with -epo.fif, -epo.fif.gz, _epo.fif or _epo.fif.gz\n",
      "  X_subject = mne.read_epochs(X_file, preload=True, verbose=False)\n",
      "/var/folders/dh/551p960n6mv9t9byzj8pp0640000gp/T/ipykernel_90719/952294026.py:47: RuntimeWarning: This filename (/Users/BAEK/Code/neurEx/data/N170/Data_Preprocessed/sub-004/Epochs_sub-004.fif) does not conform to MNE naming conventions. All epochs files should end with -epo.fif, -epo.fif.gz, _epo.fif or _epo.fif.gz\n",
      "  X_subject = mne.read_epochs(X_file, preload=True, verbose=False)\n"
     ]
    },
    {
     "name": "stdout",
     "output_type": "stream",
     "text": [
      "Loading data for sub-003\n",
      "Loading data for sub-040\n"
     ]
    },
    {
     "name": "stderr",
     "output_type": "stream",
     "text": [
      "/var/folders/dh/551p960n6mv9t9byzj8pp0640000gp/T/ipykernel_90719/952294026.py:47: RuntimeWarning: This filename (/Users/BAEK/Code/neurEx/data/N170/Data_Preprocessed/sub-003/Epochs_sub-003.fif) does not conform to MNE naming conventions. All epochs files should end with -epo.fif, -epo.fif.gz, _epo.fif or _epo.fif.gz\n",
      "  X_subject = mne.read_epochs(X_file, preload=True, verbose=False)\n",
      "/var/folders/dh/551p960n6mv9t9byzj8pp0640000gp/T/ipykernel_90719/952294026.py:47: RuntimeWarning: This filename (/Users/BAEK/Code/neurEx/data/N170/Data_Preprocessed/sub-040/Epochs_sub-040.fif) does not conform to MNE naming conventions. All epochs files should end with -epo.fif, -epo.fif.gz, _epo.fif or _epo.fif.gz\n",
      "  X_subject = mne.read_epochs(X_file, preload=True, verbose=False)\n"
     ]
    },
    {
     "name": "stdout",
     "output_type": "stream",
     "text": [
      "Loading data for sub-025\n",
      "Loading data for sub-022\n"
     ]
    },
    {
     "name": "stderr",
     "output_type": "stream",
     "text": [
      "/var/folders/dh/551p960n6mv9t9byzj8pp0640000gp/T/ipykernel_90719/952294026.py:47: RuntimeWarning: This filename (/Users/BAEK/Code/neurEx/data/N170/Data_Preprocessed/sub-025/Epochs_sub-025.fif) does not conform to MNE naming conventions. All epochs files should end with -epo.fif, -epo.fif.gz, _epo.fif or _epo.fif.gz\n",
      "  X_subject = mne.read_epochs(X_file, preload=True, verbose=False)\n",
      "/var/folders/dh/551p960n6mv9t9byzj8pp0640000gp/T/ipykernel_90719/952294026.py:47: RuntimeWarning: This filename (/Users/BAEK/Code/neurEx/data/N170/Data_Preprocessed/sub-022/Epochs_sub-022.fif) does not conform to MNE naming conventions. All epochs files should end with -epo.fif, -epo.fif.gz, _epo.fif or _epo.fif.gz\n",
      "  X_subject = mne.read_epochs(X_file, preload=True, verbose=False)\n"
     ]
    },
    {
     "name": "stdout",
     "output_type": "stream",
     "text": [
      "Loading data for sub-014\n",
      "Loading data for sub-013\n"
     ]
    },
    {
     "name": "stderr",
     "output_type": "stream",
     "text": [
      "/var/folders/dh/551p960n6mv9t9byzj8pp0640000gp/T/ipykernel_90719/952294026.py:47: RuntimeWarning: This filename (/Users/BAEK/Code/neurEx/data/N170/Data_Preprocessed/sub-014/Epochs_sub-014.fif) does not conform to MNE naming conventions. All epochs files should end with -epo.fif, -epo.fif.gz, _epo.fif or _epo.fif.gz\n",
      "  X_subject = mne.read_epochs(X_file, preload=True, verbose=False)\n",
      "/var/folders/dh/551p960n6mv9t9byzj8pp0640000gp/T/ipykernel_90719/952294026.py:47: RuntimeWarning: This filename (/Users/BAEK/Code/neurEx/data/N170/Data_Preprocessed/sub-013/Epochs_sub-013.fif) does not conform to MNE naming conventions. All epochs files should end with -epo.fif, -epo.fif.gz, _epo.fif or _epo.fif.gz\n",
      "  X_subject = mne.read_epochs(X_file, preload=True, verbose=False)\n"
     ]
    },
    {
     "name": "stdout",
     "output_type": "stream",
     "text": [
      "Loading data for sub-012\n",
      "Loading data for sub-015\n"
     ]
    },
    {
     "name": "stderr",
     "output_type": "stream",
     "text": [
      "/var/folders/dh/551p960n6mv9t9byzj8pp0640000gp/T/ipykernel_90719/952294026.py:47: RuntimeWarning: This filename (/Users/BAEK/Code/neurEx/data/N170/Data_Preprocessed/sub-012/Epochs_sub-012.fif) does not conform to MNE naming conventions. All epochs files should end with -epo.fif, -epo.fif.gz, _epo.fif or _epo.fif.gz\n",
      "  X_subject = mne.read_epochs(X_file, preload=True, verbose=False)\n",
      "/var/folders/dh/551p960n6mv9t9byzj8pp0640000gp/T/ipykernel_90719/952294026.py:47: RuntimeWarning: This filename (/Users/BAEK/Code/neurEx/data/N170/Data_Preprocessed/sub-015/Epochs_sub-015.fif) does not conform to MNE naming conventions. All epochs files should end with -epo.fif, -epo.fif.gz, _epo.fif or _epo.fif.gz\n",
      "  X_subject = mne.read_epochs(X_file, preload=True, verbose=False)\n"
     ]
    },
    {
     "name": "stdout",
     "output_type": "stream",
     "text": [
      "Loading data for sub-023\n",
      "Loading data for sub-024\n"
     ]
    },
    {
     "name": "stderr",
     "output_type": "stream",
     "text": [
      "/var/folders/dh/551p960n6mv9t9byzj8pp0640000gp/T/ipykernel_90719/952294026.py:47: RuntimeWarning: This filename (/Users/BAEK/Code/neurEx/data/N170/Data_Preprocessed/sub-023/Epochs_sub-023.fif) does not conform to MNE naming conventions. All epochs files should end with -epo.fif, -epo.fif.gz, _epo.fif or _epo.fif.gz\n",
      "  X_subject = mne.read_epochs(X_file, preload=True, verbose=False)\n",
      "/var/folders/dh/551p960n6mv9t9byzj8pp0640000gp/T/ipykernel_90719/952294026.py:47: RuntimeWarning: This filename (/Users/BAEK/Code/neurEx/data/N170/Data_Preprocessed/sub-024/Epochs_sub-024.fif) does not conform to MNE naming conventions. All epochs files should end with -epo.fif, -epo.fif.gz, _epo.fif or _epo.fif.gz\n",
      "  X_subject = mne.read_epochs(X_file, preload=True, verbose=False)\n"
     ]
    },
    {
     "name": "stdout",
     "output_type": "stream",
     "text": [
      "Loading data for sub-039\n",
      "Loading data for sub-006\n"
     ]
    },
    {
     "name": "stderr",
     "output_type": "stream",
     "text": [
      "/var/folders/dh/551p960n6mv9t9byzj8pp0640000gp/T/ipykernel_90719/952294026.py:47: RuntimeWarning: This filename (/Users/BAEK/Code/neurEx/data/N170/Data_Preprocessed/sub-039/Epochs_sub-039.fif) does not conform to MNE naming conventions. All epochs files should end with -epo.fif, -epo.fif.gz, _epo.fif or _epo.fif.gz\n",
      "  X_subject = mne.read_epochs(X_file, preload=True, verbose=False)\n",
      "/var/folders/dh/551p960n6mv9t9byzj8pp0640000gp/T/ipykernel_90719/952294026.py:47: RuntimeWarning: This filename (/Users/BAEK/Code/neurEx/data/N170/Data_Preprocessed/sub-006/Epochs_sub-006.fif) does not conform to MNE naming conventions. All epochs files should end with -epo.fif, -epo.fif.gz, _epo.fif or _epo.fif.gz\n",
      "  X_subject = mne.read_epochs(X_file, preload=True, verbose=False)\n"
     ]
    },
    {
     "name": "stdout",
     "output_type": "stream",
     "text": [
      "Loading data for sub-001\n",
      "Loading data for sub-008\n"
     ]
    },
    {
     "name": "stderr",
     "output_type": "stream",
     "text": [
      "/var/folders/dh/551p960n6mv9t9byzj8pp0640000gp/T/ipykernel_90719/952294026.py:47: RuntimeWarning: This filename (/Users/BAEK/Code/neurEx/data/N170/Data_Preprocessed/sub-001/Epochs_sub-001.fif) does not conform to MNE naming conventions. All epochs files should end with -epo.fif, -epo.fif.gz, _epo.fif or _epo.fif.gz\n",
      "  X_subject = mne.read_epochs(X_file, preload=True, verbose=False)\n",
      "/var/folders/dh/551p960n6mv9t9byzj8pp0640000gp/T/ipykernel_90719/952294026.py:47: RuntimeWarning: This filename (/Users/BAEK/Code/neurEx/data/N170/Data_Preprocessed/sub-008/Epochs_sub-008.fif) does not conform to MNE naming conventions. All epochs files should end with -epo.fif, -epo.fif.gz, _epo.fif or _epo.fif.gz\n",
      "  X_subject = mne.read_epochs(X_file, preload=True, verbose=False)\n"
     ]
    },
    {
     "name": "stdout",
     "output_type": "stream",
     "text": [
      "Loading data for sub-037\n",
      "Loading data for sub-030\n"
     ]
    },
    {
     "name": "stderr",
     "output_type": "stream",
     "text": [
      "/var/folders/dh/551p960n6mv9t9byzj8pp0640000gp/T/ipykernel_90719/952294026.py:47: RuntimeWarning: This filename (/Users/BAEK/Code/neurEx/data/N170/Data_Preprocessed/sub-037/Epochs_sub-037.fif) does not conform to MNE naming conventions. All epochs files should end with -epo.fif, -epo.fif.gz, _epo.fif or _epo.fif.gz\n",
      "  X_subject = mne.read_epochs(X_file, preload=True, verbose=False)\n",
      "/var/folders/dh/551p960n6mv9t9byzj8pp0640000gp/T/ipykernel_90719/952294026.py:47: RuntimeWarning: This filename (/Users/BAEK/Code/neurEx/data/N170/Data_Preprocessed/sub-030/Epochs_sub-030.fif) does not conform to MNE naming conventions. All epochs files should end with -epo.fif, -epo.fif.gz, _epo.fif or _epo.fif.gz\n",
      "  X_subject = mne.read_epochs(X_file, preload=True, verbose=False)\n"
     ]
    },
    {
     "name": "stdout",
     "output_type": "stream",
     "text": [
      "Loading data for sub-031\n",
      "Loading data for sub-009\n"
     ]
    },
    {
     "name": "stderr",
     "output_type": "stream",
     "text": [
      "/var/folders/dh/551p960n6mv9t9byzj8pp0640000gp/T/ipykernel_90719/952294026.py:47: RuntimeWarning: This filename (/Users/BAEK/Code/neurEx/data/N170/Data_Preprocessed/sub-031/Epochs_sub-031.fif) does not conform to MNE naming conventions. All epochs files should end with -epo.fif, -epo.fif.gz, _epo.fif or _epo.fif.gz\n",
      "  X_subject = mne.read_epochs(X_file, preload=True, verbose=False)\n",
      "/var/folders/dh/551p960n6mv9t9byzj8pp0640000gp/T/ipykernel_90719/952294026.py:47: RuntimeWarning: This filename (/Users/BAEK/Code/neurEx/data/N170/Data_Preprocessed/sub-009/Epochs_sub-009.fif) does not conform to MNE naming conventions. All epochs files should end with -epo.fif, -epo.fif.gz, _epo.fif or _epo.fif.gz\n",
      "  X_subject = mne.read_epochs(X_file, preload=True, verbose=False)\n"
     ]
    },
    {
     "name": "stdout",
     "output_type": "stream",
     "text": [
      "Loading data for sub-036\n",
      "Loading data for sub-038\n"
     ]
    },
    {
     "name": "stderr",
     "output_type": "stream",
     "text": [
      "/var/folders/dh/551p960n6mv9t9byzj8pp0640000gp/T/ipykernel_90719/952294026.py:47: RuntimeWarning: This filename (/Users/BAEK/Code/neurEx/data/N170/Data_Preprocessed/sub-036/Epochs_sub-036.fif) does not conform to MNE naming conventions. All epochs files should end with -epo.fif, -epo.fif.gz, _epo.fif or _epo.fif.gz\n",
      "  X_subject = mne.read_epochs(X_file, preload=True, verbose=False)\n",
      "/var/folders/dh/551p960n6mv9t9byzj8pp0640000gp/T/ipykernel_90719/952294026.py:47: RuntimeWarning: This filename (/Users/BAEK/Code/neurEx/data/N170/Data_Preprocessed/sub-038/Epochs_sub-038.fif) does not conform to MNE naming conventions. All epochs files should end with -epo.fif, -epo.fif.gz, _epo.fif or _epo.fif.gz\n",
      "  X_subject = mne.read_epochs(X_file, preload=True, verbose=False)\n"
     ]
    },
    {
     "name": "stdout",
     "output_type": "stream",
     "text": [
      "Loading data for sub-007\n"
     ]
    },
    {
     "name": "stderr",
     "output_type": "stream",
     "text": [
      "/var/folders/dh/551p960n6mv9t9byzj8pp0640000gp/T/ipykernel_90719/952294026.py:47: RuntimeWarning: This filename (/Users/BAEK/Code/neurEx/data/N170/Data_Preprocessed/sub-007/Epochs_sub-007.fif) does not conform to MNE naming conventions. All epochs files should end with -epo.fif, -epo.fif.gz, _epo.fif or _epo.fif.gz\n",
      "  X_subject = mne.read_epochs(X_file, preload=True, verbose=False)\n"
     ]
    }
   ],
   "source": [
    "# Import necessary libraries\n",
    "import os\n",
    "import numpy as np\n",
    "import mne\n",
    "import matplotlib.pyplot as plt\n",
    "import seaborn as sns\n",
    "\n",
    "# TensorFlow and Keras\n",
    "import tensorflow as tf\n",
    "from tensorflow.keras.models import Model\n",
    "from tensorflow.keras.layers import (Input, Conv2D, BatchNormalization,\n",
    "                                     Activation, MaxPooling2D, Dropout, Flatten, Dense)\n",
    "from tensorflow.keras.optimizers import Adam\n",
    "from tensorflow.keras.callbacks import EarlyStopping, ReduceLROnPlateau\n",
    "\n",
    "# Scikit-learn\n",
    "from sklearn.model_selection import train_test_split\n",
    "from sklearn.preprocessing import StandardScaler\n",
    "from sklearn.metrics import confusion_matrix, classification_report\n",
    "\n",
    "# Suppress TensorFlow warnings (optional)\n",
    "import logging\n",
    "logging.getLogger('tensorflow').setLevel(logging.ERROR)\n"
   ]
  },
  {
   "cell_type": "code",
   "execution_count": null,
   "metadata": {},
   "outputs": [],
   "source": [
    "\n",
    "# Data Preparation\n",
    "# Define the data directory where subject folders are located\n",
    "data_dir = '/Users/BAEK/Code/neurEx/data/N170/Data_Preprocessed'\n",
    "\n",
    "# List all subject folders\n",
    "subject_folders = [f for f in os.listdir(data_dir) if os.path.isdir(os.path.join(data_dir, f))]\n",
    "\n",
    "# Initialize lists to hold data and labels from all subjects\n",
    "X_list = []\n",
    "y_list = []\n",
    "\n",
    "# Loop over each subject folder\n",
    "for subject in subject_folders:\n",
    "    subject_data_dir = os.path.join(data_dir, subject)\n",
    "    # Construct file paths for the subject's data\n",
    "    X_file = os.path.join(subject_data_dir, f'Epochs_{subject}.fif')\n",
    "    y_file = os.path.join(subject_data_dir, f'y_labels_{subject}.npy')\n",
    "    \n",
    "    # Check if data files exist\n",
    "    if os.path.exists(X_file) and os.path.exists(y_file):\n",
    "        print(f'Loading data for {subject}')\n",
    "        # Load the data\n",
    "        X_subject = mne.read_epochs(X_file, preload=True, verbose=False)\n",
    "        y_subject = np.load(y_file)\n",
    "        # Append to the list\n",
    "        X_sub_data = X_subject.get_data()\n",
    "        X_list.append(X_sub_data)\n",
    "        y_list.append(y_subject)\n",
    "    else:\n",
    "        print(f'Data files not found for {subject}')\n",
    "\n",
    "# Ensure that at least one subject has been loaded\n",
    "if len(X_list) == 0:\n",
    "    raise ValueError(\"No data was loaded. Please check your data directory and files.\")\n",
    "\n",
    "# Get channel names from the last loaded subject\n",
    "channels = X_subject.ch_names\n",
    "coi = ['P8', 'PO8', 'O2', 'P10']\n",
    "chan_idx = [channels.index(chan) for chan in coi]\n"
   ]
  },
  {
   "cell_type": "code",
   "execution_count": 2,
   "metadata": {},
   "outputs": [
    {
     "name": "stdout",
     "output_type": "stream",
     "text": [
      "Combined data shape before filtering: X=(23602, 4, 820), y=(23602,)\n",
      "Combined data shape after filtering: X=(6104, 4, 102), y=(6104,)\n"
     ]
    }
   ],
   "source": [
    "\n",
    "# Concatenate data from all subjects\n",
    "X = np.concatenate(X_list, axis=0)\n",
    "X = X[:, chan_idx, :]  # Select channels of interest\n",
    "y = np.concatenate(y_list, axis=0)\n",
    "\n",
    "print(f'Combined data shape before filtering: X={X.shape}, y={y.shape}')\n",
    "\n",
    "# Filter stimulus events\n",
    "stimulus_labels = [1, 2]  # 1: Face, 2: Car\n",
    "stimulus_mask = np.isin(y, stimulus_labels)\n",
    "X = X[stimulus_mask]\n",
    "y = y[stimulus_mask]\n",
    "\n",
    "# Adjust labels to start from 0\n",
    "y = y - 1\n",
    "\n",
    "# Focus on the N170 response by selecting data around 170 ms\n",
    "tmin, tmax = 0.1, 0.2  # 100 ms to 200 ms\n",
    "times = X_subject.times  # Time vector from the epochs\n",
    "time_mask = (times >= tmin) & (times <= tmax)\n",
    "X = X[:, :, time_mask]\n",
    "\n",
    "print(f'Combined data shape after filtering: X={X.shape}, y={y.shape}')\n"
   ]
  },
  {
   "cell_type": "code",
   "execution_count": null,
   "metadata": {},
   "outputs": [],
   "source": [
    "\n",
    "# Normalize data per channel\n",
    "def normalize_per_channel(X_data):\n",
    "    X_norm = np.zeros_like(X_data)\n",
    "    for i in range(X_data.shape[1]):  # Loop over channels\n",
    "        scaler = StandardScaler()\n",
    "        X_channel = X_data[:, i, :]\n",
    "        X_norm[:, i, :] = scaler.fit_transform(X_channel)\n",
    "    return X_norm\n",
    "\n",
    "X = normalize_per_channel(X)\n",
    "\n",
    "# Reshape data for Conv2D (samples, channels, times, 1)\n",
    "X = X.transpose((0, 1, 2))  # Shape: (samples, channels, times)\n",
    "X = X[..., np.newaxis]  # Shape: (samples, channels, times, 1)\n",
    "\n",
    "# Data Augmentation\n",
    "def augment_data(X, y):\n",
    "    X_augmented = []\n",
    "    y_augmented = []\n",
    "    for i in range(X.shape[0]):\n",
    "        # Original data\n",
    "        X_augmented.append(X[i])\n",
    "        y_augmented.append(y[i])\n",
    "\n",
    "        # Time-shifted data\n",
    "        for shift in [-2, -1, 1, 2]:  # Shift by 1 or 2 time steps\n",
    "            X_shifted = np.roll(X[i], shift, axis=2)\n",
    "            X_augmented.append(X_shifted)\n",
    "            y_augmented.append(y[i])\n",
    "\n",
    "        # Noise-injected data\n",
    "        noise = np.random.normal(0, 0.01, X[i].shape)\n",
    "        X_noisy = X[i] + noise\n",
    "        X_augmented.append(X_noisy)\n",
    "        y_augmented.append(y[i])\n",
    "\n",
    "    return np.array(X_augmented), np.array(y_augmented)\n",
    "\n",
    "# Apply augmentation on the whole dataset before splitting\n",
    "X_aug, y_aug = augment_data(X, y)\n",
    "\n",
    "print(f'Augmented data shape: X={X_aug.shape}, y={y_aug.shape}')\n",
    "\n",
    "# Split data into training and testing sets\n",
    "X_train_val, X_test, y_train_val, y_test = train_test_split(\n",
    "    X_aug, y_aug, test_size=0.2, random_state=42, stratify=y_aug)\n",
    "\n",
    "# Model Implementation using DeepConvNet\n",
    "def DeepConvNet(nb_classes, Chans=4, Samples=50, dropoutRate=0.5):\n",
    "    input_main = Input((Chans, Samples, 1))\n",
    "    \n",
    "    # Block 1\n",
    "    block1 = Conv2D(25, (1, 5), padding='same', use_bias=False)(input_main)\n",
    "    block1 = Conv2D(25, (Chans, 1), use_bias=False)(block1)\n",
    "    block1 = BatchNormalization()(block1)\n",
    "    block1 = Activation('elu')(block1)\n",
    "    block1 = MaxPooling2D((1, 2))(block1)\n",
    "    block1 = Dropout(0.2)(block1)\n",
    "    \n",
    "    # Block 2\n",
    "    block2 = Conv2D(50, (1, 5), padding='same', use_bias=False)(block1)\n",
    "    block2 = BatchNormalization()(block2)\n",
    "    block2 = Activation('elu')(block2)\n",
    "    block2 = MaxPooling2D((1, 2))(block2)\n",
    "    block2 = Dropout(0.3)(block2)\n",
    "    \n",
    "    # Block 3\n",
    "    block3 = Conv2D(100, (1, 5), padding='same', use_bias=False)(block2)\n",
    "    block3 = BatchNormalization()(block3)\n",
    "    block3 = Activation('elu')(block3)\n",
    "    block3 = MaxPooling2D((1, 2))(block3)\n",
    "    block3 = Dropout(0.4)(block3)\n",
    "    \n",
    "    # Block 4\n",
    "    block4 = Conv2D(200, (1, 5), padding='same', use_bias=False)(block3)\n",
    "    block4 = BatchNormalization()(block4)\n",
    "    block4 = Activation('elu')(block4)\n",
    "    block4 = MaxPooling2D((1, 2))(block4)\n",
    "    block4 = Dropout(0.5)(block4)\n",
    "    \n",
    "    # Flatten and Dense Layers\n",
    "    flatten = Flatten()(block4)\n",
    "    dense = Dense(nb_classes)(flatten)\n",
    "    softmax = Activation('softmax')(dense)\n",
    "    \n",
    "    return Model(inputs=input_main, outputs=softmax)\n",
    "\n",
    "# Parameters for DeepConvNet\n",
    "Chans = X.shape[1]\n",
    "Samples = X.shape[2]\n",
    "nb_classes = 2  # Binary classification\n",
    "\n",
    "# Compile the model\n",
    "model = DeepConvNet(nb_classes=nb_classes, Chans=Chans, Samples=Samples, dropoutRate=0.5)\n",
    "model.compile(optimizer=Adam(learning_rate=1e-3),\n",
    "              loss='sparse_categorical_crossentropy',\n",
    "              metrics=['accuracy'])\n",
    "\n",
    "# Adjust EarlyStopping and ReduceLROnPlateau\n",
    "early_stopping = EarlyStopping(monitor='val_loss', patience=25, restore_best_weights=True)\n",
    "reduce_lr = ReduceLROnPlateau(monitor='val_loss', factor=0.5, patience=10,\n",
    "                              min_lr=1e-6, verbose=1)\n",
    "\n",
    "# Training\n",
    "epochs = 500\n",
    "batch_size = 16  # Keep batch size small for better gradient estimation\n",
    "\n",
    "# Train the model\n",
    "history = model.fit(X_train_val, y_train_val,\n",
    "                    epochs=epochs,\n",
    "                    batch_size=batch_size,\n",
    "                    validation_data=(X_test, y_test),\n",
    "                    callbacks=[early_stopping, reduce_lr],\n",
    "                    verbose=1)\n",
    "\n",
    "# Evaluation and Visualization\n",
    "# Evaluate on test data\n",
    "test_loss, test_accuracy = model.evaluate(X_test, y_test, verbose=0)\n",
    "print(f'Test Accuracy: {test_accuracy * 100:.2f}%')\n",
    "\n",
    "# Visualize training history\n",
    "# Plot accuracy\n",
    "plt.figure(figsize=(12, 4))\n",
    "plt.subplot(1, 2, 1)\n",
    "plt.plot(history.history['accuracy'], label='Train Accuracy', color='blue')\n",
    "plt.plot(history.history['val_accuracy'], label='Validation Accuracy', color='orange')\n",
    "plt.title('Model Accuracy')\n",
    "plt.xlabel('Epoch')\n",
    "plt.ylabel('Accuracy')\n",
    "plt.legend()\n",
    "\n",
    "# Plot loss\n",
    "plt.subplot(1, 2, 2)\n",
    "plt.plot(history.history['loss'], label='Train Loss', color='blue')\n",
    "plt.plot(history.history['val_loss'], label='Validation Loss', color='orange')\n",
    "plt.title('Model Loss')\n",
    "plt.xlabel('Epoch')\n",
    "plt.ylabel('Loss')\n",
    "plt.legend()\n",
    "\n",
    "plt.tight_layout()\n",
    "plt.show()\n",
    "\n",
    "# Predictions\n",
    "y_pred_prob = model.predict(X_test)\n",
    "y_pred = np.argmax(y_pred_prob, axis=1)\n",
    "\n",
    "# Confusion Matrix and Classification Report\n",
    "cm = confusion_matrix(y_test, y_pred)\n",
    "\n",
    "plt.figure(figsize=(8, 6))\n",
    "sns.heatmap(cm, annot=True, fmt='d', cmap='Blues',\n",
    "            xticklabels=['Face', 'Car'],\n",
    "            yticklabels=['Face', 'Car'])\n",
    "plt.xlabel('Predicted Label')\n",
    "plt.ylabel('True Label')\n",
    "plt.title('Confusion Matrix')\n",
    "plt.show()\n",
    "\n",
    "print(classification_report(y_test, y_pred, target_names=['Face', 'Car']))\n"
   ]
  },
  {
   "cell_type": "code",
   "execution_count": 88,
   "metadata": {},
   "outputs": [],
   "source": [
    "model.save('/Users/owenanderson/Documents/NeurEx/Projects/P1_N170/Models/V2.keras')"
   ]
  }
 ],
 "metadata": {
  "kernelspec": {
   "display_name": "n170",
   "language": "python",
   "name": "python3"
  },
  "language_info": {
   "codemirror_mode": {
    "name": "ipython",
    "version": 3
   },
   "file_extension": ".py",
   "mimetype": "text/x-python",
   "name": "python",
   "nbconvert_exporter": "python",
   "pygments_lexer": "ipython3",
   "version": "3.10.15"
  }
 },
 "nbformat": 4,
 "nbformat_minor": 2
}
