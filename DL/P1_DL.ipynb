{
 "cells": [
  {
   "cell_type": "markdown",
   "metadata": {},
   "source": [
    "Deep Learning Script for Classifying Stimulus Bbased on EEG Data"
   ]
  },
  {
   "cell_type": "code",
   "execution_count": 1,
   "metadata": {},
   "outputs": [],
   "source": [
    "# Import necessary libraries\n",
    "import os\n",
    "import numpy as np\n",
    "import mne\n",
    "import matplotlib.pyplot as plt\n",
    "import seaborn as sns\n",
    "\n",
    "# TensorFlow and Keras\n",
    "import tensorflow as tf\n",
    "from tensorflow.keras.models import Model\n",
    "from tensorflow.keras.layers import (Input, Conv2D, BatchNormalization,\n",
    "                                     Activation, MaxPooling2D, Dropout, Flatten, Dense)\n",
    "from tensorflow.keras.optimizers import Adam\n",
    "from tensorflow.keras.callbacks import EarlyStopping, ReduceLROnPlateau\n",
    "\n",
    "# Scikit-learn\n",
    "from sklearn.model_selection import train_test_split\n",
    "from sklearn.preprocessing import StandardScaler\n",
    "from sklearn.metrics import confusion_matrix, classification_report\n",
    "\n",
    "# Suppress TensorFlow warnings (optional)\n",
    "import logging\n",
    "logging.getLogger('tensorflow').setLevel(logging.ERROR)\n"
   ]
  },
  {
   "cell_type": "code",
   "execution_count": 2,
   "metadata": {},
   "outputs": [
    {
     "name": "stdout",
     "output_type": "stream",
     "text": [
      "Loading data for sub-021\n"
     ]
    },
    {
     "name": "stderr",
     "output_type": "stream",
     "text": [
      "/var/folders/dh/551p960n6mv9t9byzj8pp0640000gp/T/ipykernel_16542/3929881324.py:23: RuntimeWarning: This filename (/Users/BAEK/Code/neurEx/data/N170/Data_Preprocessed/sub-021/Epochs_sub-021.fif) does not conform to MNE naming conventions. All epochs files should end with -epo.fif, -epo.fif.gz, _epo.fif or _epo.fif.gz\n",
      "  X_subject = mne.read_epochs(X_file, preload=True, verbose=False)\n",
      "/var/folders/dh/551p960n6mv9t9byzj8pp0640000gp/T/ipykernel_16542/3929881324.py:23: RuntimeWarning: This filename (/Users/BAEK/Code/neurEx/data/N170/Data_Preprocessed/sub-026/Epochs_sub-026.fif) does not conform to MNE naming conventions. All epochs files should end with -epo.fif, -epo.fif.gz, _epo.fif or _epo.fif.gz\n",
      "  X_subject = mne.read_epochs(X_file, preload=True, verbose=False)\n"
     ]
    },
    {
     "name": "stdout",
     "output_type": "stream",
     "text": [
      "Loading data for sub-026\n",
      "Loading data for sub-019\n",
      "Loading data for sub-010\n"
     ]
    },
    {
     "name": "stderr",
     "output_type": "stream",
     "text": [
      "/var/folders/dh/551p960n6mv9t9byzj8pp0640000gp/T/ipykernel_16542/3929881324.py:23: RuntimeWarning: This filename (/Users/BAEK/Code/neurEx/data/N170/Data_Preprocessed/sub-019/Epochs_sub-019.fif) does not conform to MNE naming conventions. All epochs files should end with -epo.fif, -epo.fif.gz, _epo.fif or _epo.fif.gz\n",
      "  X_subject = mne.read_epochs(X_file, preload=True, verbose=False)\n",
      "/var/folders/dh/551p960n6mv9t9byzj8pp0640000gp/T/ipykernel_16542/3929881324.py:23: RuntimeWarning: This filename (/Users/BAEK/Code/neurEx/data/N170/Data_Preprocessed/sub-010/Epochs_sub-010.fif) does not conform to MNE naming conventions. All epochs files should end with -epo.fif, -epo.fif.gz, _epo.fif or _epo.fif.gz\n",
      "  X_subject = mne.read_epochs(X_file, preload=True, verbose=False)\n",
      "/var/folders/dh/551p960n6mv9t9byzj8pp0640000gp/T/ipykernel_16542/3929881324.py:23: RuntimeWarning: This filename (/Users/BAEK/Code/neurEx/data/N170/Data_Preprocessed/sub-017/Epochs_sub-017.fif) does not conform to MNE naming conventions. All epochs files should end with -epo.fif, -epo.fif.gz, _epo.fif or _epo.fif.gz\n",
      "  X_subject = mne.read_epochs(X_file, preload=True, verbose=False)\n"
     ]
    },
    {
     "name": "stdout",
     "output_type": "stream",
     "text": [
      "Loading data for sub-017\n",
      "Loading data for sub-028\n",
      "Loading data for sub-016\n"
     ]
    },
    {
     "name": "stderr",
     "output_type": "stream",
     "text": [
      "/var/folders/dh/551p960n6mv9t9byzj8pp0640000gp/T/ipykernel_16542/3929881324.py:23: RuntimeWarning: This filename (/Users/BAEK/Code/neurEx/data/N170/Data_Preprocessed/sub-028/Epochs_sub-028.fif) does not conform to MNE naming conventions. All epochs files should end with -epo.fif, -epo.fif.gz, _epo.fif or _epo.fif.gz\n",
      "  X_subject = mne.read_epochs(X_file, preload=True, verbose=False)\n",
      "/var/folders/dh/551p960n6mv9t9byzj8pp0640000gp/T/ipykernel_16542/3929881324.py:23: RuntimeWarning: This filename (/Users/BAEK/Code/neurEx/data/N170/Data_Preprocessed/sub-016/Epochs_sub-016.fif) does not conform to MNE naming conventions. All epochs files should end with -epo.fif, -epo.fif.gz, _epo.fif or _epo.fif.gz\n",
      "  X_subject = mne.read_epochs(X_file, preload=True, verbose=False)\n",
      "/var/folders/dh/551p960n6mv9t9byzj8pp0640000gp/T/ipykernel_16542/3929881324.py:23: RuntimeWarning: This filename (/Users/BAEK/Code/neurEx/data/N170/Data_Preprocessed/sub-029/Epochs_sub-029.fif) does not conform to MNE naming conventions. All epochs files should end with -epo.fif, -epo.fif.gz, _epo.fif or _epo.fif.gz\n",
      "  X_subject = mne.read_epochs(X_file, preload=True, verbose=False)\n"
     ]
    },
    {
     "name": "stdout",
     "output_type": "stream",
     "text": [
      "Loading data for sub-029\n",
      "Loading data for sub-011\n",
      "Loading data for sub-027\n"
     ]
    },
    {
     "name": "stderr",
     "output_type": "stream",
     "text": [
      "/var/folders/dh/551p960n6mv9t9byzj8pp0640000gp/T/ipykernel_16542/3929881324.py:23: RuntimeWarning: This filename (/Users/BAEK/Code/neurEx/data/N170/Data_Preprocessed/sub-011/Epochs_sub-011.fif) does not conform to MNE naming conventions. All epochs files should end with -epo.fif, -epo.fif.gz, _epo.fif or _epo.fif.gz\n",
      "  X_subject = mne.read_epochs(X_file, preload=True, verbose=False)\n",
      "/var/folders/dh/551p960n6mv9t9byzj8pp0640000gp/T/ipykernel_16542/3929881324.py:23: RuntimeWarning: This filename (/Users/BAEK/Code/neurEx/data/N170/Data_Preprocessed/sub-027/Epochs_sub-027.fif) does not conform to MNE naming conventions. All epochs files should end with -epo.fif, -epo.fif.gz, _epo.fif or _epo.fif.gz\n",
      "  X_subject = mne.read_epochs(X_file, preload=True, verbose=False)\n",
      "/var/folders/dh/551p960n6mv9t9byzj8pp0640000gp/T/ipykernel_16542/3929881324.py:23: RuntimeWarning: This filename (/Users/BAEK/Code/neurEx/data/N170/Data_Preprocessed/sub-018/Epochs_sub-018.fif) does not conform to MNE naming conventions. All epochs files should end with -epo.fif, -epo.fif.gz, _epo.fif or _epo.fif.gz\n",
      "  X_subject = mne.read_epochs(X_file, preload=True, verbose=False)\n"
     ]
    },
    {
     "name": "stdout",
     "output_type": "stream",
     "text": [
      "Loading data for sub-018\n",
      "Loading data for sub-020\n"
     ]
    },
    {
     "name": "stderr",
     "output_type": "stream",
     "text": [
      "/var/folders/dh/551p960n6mv9t9byzj8pp0640000gp/T/ipykernel_16542/3929881324.py:23: RuntimeWarning: This filename (/Users/BAEK/Code/neurEx/data/N170/Data_Preprocessed/sub-020/Epochs_sub-020.fif) does not conform to MNE naming conventions. All epochs files should end with -epo.fif, -epo.fif.gz, _epo.fif or _epo.fif.gz\n",
      "  X_subject = mne.read_epochs(X_file, preload=True, verbose=False)\n",
      "/var/folders/dh/551p960n6mv9t9byzj8pp0640000gp/T/ipykernel_16542/3929881324.py:23: RuntimeWarning: This filename (/Users/BAEK/Code/neurEx/data/N170/Data_Preprocessed/sub-002/Epochs_sub-002.fif) does not conform to MNE naming conventions. All epochs files should end with -epo.fif, -epo.fif.gz, _epo.fif or _epo.fif.gz\n",
      "  X_subject = mne.read_epochs(X_file, preload=True, verbose=False)\n",
      "/var/folders/dh/551p960n6mv9t9byzj8pp0640000gp/T/ipykernel_16542/3929881324.py:23: RuntimeWarning: This filename (/Users/BAEK/Code/neurEx/data/N170/Data_Preprocessed/sub-005/Epochs_sub-005.fif) does not conform to MNE naming conventions. All epochs files should end with -epo.fif, -epo.fif.gz, _epo.fif or _epo.fif.gz\n",
      "  X_subject = mne.read_epochs(X_file, preload=True, verbose=False)\n"
     ]
    },
    {
     "name": "stdout",
     "output_type": "stream",
     "text": [
      "Loading data for sub-002\n",
      "Loading data for sub-005\n",
      "Loading data for sub-033\n"
     ]
    },
    {
     "name": "stderr",
     "output_type": "stream",
     "text": [
      "/var/folders/dh/551p960n6mv9t9byzj8pp0640000gp/T/ipykernel_16542/3929881324.py:23: RuntimeWarning: This filename (/Users/BAEK/Code/neurEx/data/N170/Data_Preprocessed/sub-033/Epochs_sub-033.fif) does not conform to MNE naming conventions. All epochs files should end with -epo.fif, -epo.fif.gz, _epo.fif or _epo.fif.gz\n",
      "  X_subject = mne.read_epochs(X_file, preload=True, verbose=False)\n",
      "/var/folders/dh/551p960n6mv9t9byzj8pp0640000gp/T/ipykernel_16542/3929881324.py:23: RuntimeWarning: This filename (/Users/BAEK/Code/neurEx/data/N170/Data_Preprocessed/sub-034/Epochs_sub-034.fif) does not conform to MNE naming conventions. All epochs files should end with -epo.fif, -epo.fif.gz, _epo.fif or _epo.fif.gz\n",
      "  X_subject = mne.read_epochs(X_file, preload=True, verbose=False)\n"
     ]
    },
    {
     "name": "stdout",
     "output_type": "stream",
     "text": [
      "Loading data for sub-034\n",
      "Loading data for sub-035\n",
      "Loading data for sub-032\n"
     ]
    },
    {
     "name": "stderr",
     "output_type": "stream",
     "text": [
      "/var/folders/dh/551p960n6mv9t9byzj8pp0640000gp/T/ipykernel_16542/3929881324.py:23: RuntimeWarning: This filename (/Users/BAEK/Code/neurEx/data/N170/Data_Preprocessed/sub-035/Epochs_sub-035.fif) does not conform to MNE naming conventions. All epochs files should end with -epo.fif, -epo.fif.gz, _epo.fif or _epo.fif.gz\n",
      "  X_subject = mne.read_epochs(X_file, preload=True, verbose=False)\n",
      "/var/folders/dh/551p960n6mv9t9byzj8pp0640000gp/T/ipykernel_16542/3929881324.py:23: RuntimeWarning: This filename (/Users/BAEK/Code/neurEx/data/N170/Data_Preprocessed/sub-032/Epochs_sub-032.fif) does not conform to MNE naming conventions. All epochs files should end with -epo.fif, -epo.fif.gz, _epo.fif or _epo.fif.gz\n",
      "  X_subject = mne.read_epochs(X_file, preload=True, verbose=False)\n",
      "/var/folders/dh/551p960n6mv9t9byzj8pp0640000gp/T/ipykernel_16542/3929881324.py:23: RuntimeWarning: This filename (/Users/BAEK/Code/neurEx/data/N170/Data_Preprocessed/sub-004/Epochs_sub-004.fif) does not conform to MNE naming conventions. All epochs files should end with -epo.fif, -epo.fif.gz, _epo.fif or _epo.fif.gz\n",
      "  X_subject = mne.read_epochs(X_file, preload=True, verbose=False)\n"
     ]
    },
    {
     "name": "stdout",
     "output_type": "stream",
     "text": [
      "Loading data for sub-004\n",
      "Loading data for sub-003\n",
      "Loading data for sub-040\n"
     ]
    },
    {
     "name": "stderr",
     "output_type": "stream",
     "text": [
      "/var/folders/dh/551p960n6mv9t9byzj8pp0640000gp/T/ipykernel_16542/3929881324.py:23: RuntimeWarning: This filename (/Users/BAEK/Code/neurEx/data/N170/Data_Preprocessed/sub-003/Epochs_sub-003.fif) does not conform to MNE naming conventions. All epochs files should end with -epo.fif, -epo.fif.gz, _epo.fif or _epo.fif.gz\n",
      "  X_subject = mne.read_epochs(X_file, preload=True, verbose=False)\n",
      "/var/folders/dh/551p960n6mv9t9byzj8pp0640000gp/T/ipykernel_16542/3929881324.py:23: RuntimeWarning: This filename (/Users/BAEK/Code/neurEx/data/N170/Data_Preprocessed/sub-040/Epochs_sub-040.fif) does not conform to MNE naming conventions. All epochs files should end with -epo.fif, -epo.fif.gz, _epo.fif or _epo.fif.gz\n",
      "  X_subject = mne.read_epochs(X_file, preload=True, verbose=False)\n"
     ]
    },
    {
     "name": "stdout",
     "output_type": "stream",
     "text": [
      "Loading data for sub-025\n"
     ]
    },
    {
     "name": "stderr",
     "output_type": "stream",
     "text": [
      "/var/folders/dh/551p960n6mv9t9byzj8pp0640000gp/T/ipykernel_16542/3929881324.py:23: RuntimeWarning: This filename (/Users/BAEK/Code/neurEx/data/N170/Data_Preprocessed/sub-025/Epochs_sub-025.fif) does not conform to MNE naming conventions. All epochs files should end with -epo.fif, -epo.fif.gz, _epo.fif or _epo.fif.gz\n",
      "  X_subject = mne.read_epochs(X_file, preload=True, verbose=False)\n"
     ]
    },
    {
     "name": "stdout",
     "output_type": "stream",
     "text": [
      "Loading data for sub-022\n"
     ]
    },
    {
     "name": "stderr",
     "output_type": "stream",
     "text": [
      "/var/folders/dh/551p960n6mv9t9byzj8pp0640000gp/T/ipykernel_16542/3929881324.py:23: RuntimeWarning: This filename (/Users/BAEK/Code/neurEx/data/N170/Data_Preprocessed/sub-022/Epochs_sub-022.fif) does not conform to MNE naming conventions. All epochs files should end with -epo.fif, -epo.fif.gz, _epo.fif or _epo.fif.gz\n",
      "  X_subject = mne.read_epochs(X_file, preload=True, verbose=False)\n"
     ]
    },
    {
     "name": "stdout",
     "output_type": "stream",
     "text": [
      "Loading data for sub-014\n",
      "Loading data for sub-013\n"
     ]
    },
    {
     "name": "stderr",
     "output_type": "stream",
     "text": [
      "/var/folders/dh/551p960n6mv9t9byzj8pp0640000gp/T/ipykernel_16542/3929881324.py:23: RuntimeWarning: This filename (/Users/BAEK/Code/neurEx/data/N170/Data_Preprocessed/sub-014/Epochs_sub-014.fif) does not conform to MNE naming conventions. All epochs files should end with -epo.fif, -epo.fif.gz, _epo.fif or _epo.fif.gz\n",
      "  X_subject = mne.read_epochs(X_file, preload=True, verbose=False)\n",
      "/var/folders/dh/551p960n6mv9t9byzj8pp0640000gp/T/ipykernel_16542/3929881324.py:23: RuntimeWarning: This filename (/Users/BAEK/Code/neurEx/data/N170/Data_Preprocessed/sub-013/Epochs_sub-013.fif) does not conform to MNE naming conventions. All epochs files should end with -epo.fif, -epo.fif.gz, _epo.fif or _epo.fif.gz\n",
      "  X_subject = mne.read_epochs(X_file, preload=True, verbose=False)\n"
     ]
    },
    {
     "name": "stdout",
     "output_type": "stream",
     "text": [
      "Loading data for sub-012\n",
      "Loading data for sub-015\n"
     ]
    },
    {
     "name": "stderr",
     "output_type": "stream",
     "text": [
      "/var/folders/dh/551p960n6mv9t9byzj8pp0640000gp/T/ipykernel_16542/3929881324.py:23: RuntimeWarning: This filename (/Users/BAEK/Code/neurEx/data/N170/Data_Preprocessed/sub-012/Epochs_sub-012.fif) does not conform to MNE naming conventions. All epochs files should end with -epo.fif, -epo.fif.gz, _epo.fif or _epo.fif.gz\n",
      "  X_subject = mne.read_epochs(X_file, preload=True, verbose=False)\n",
      "/var/folders/dh/551p960n6mv9t9byzj8pp0640000gp/T/ipykernel_16542/3929881324.py:23: RuntimeWarning: This filename (/Users/BAEK/Code/neurEx/data/N170/Data_Preprocessed/sub-015/Epochs_sub-015.fif) does not conform to MNE naming conventions. All epochs files should end with -epo.fif, -epo.fif.gz, _epo.fif or _epo.fif.gz\n",
      "  X_subject = mne.read_epochs(X_file, preload=True, verbose=False)\n"
     ]
    },
    {
     "name": "stdout",
     "output_type": "stream",
     "text": [
      "Loading data for sub-023\n",
      "Loading data for sub-024\n"
     ]
    },
    {
     "name": "stderr",
     "output_type": "stream",
     "text": [
      "/var/folders/dh/551p960n6mv9t9byzj8pp0640000gp/T/ipykernel_16542/3929881324.py:23: RuntimeWarning: This filename (/Users/BAEK/Code/neurEx/data/N170/Data_Preprocessed/sub-023/Epochs_sub-023.fif) does not conform to MNE naming conventions. All epochs files should end with -epo.fif, -epo.fif.gz, _epo.fif or _epo.fif.gz\n",
      "  X_subject = mne.read_epochs(X_file, preload=True, verbose=False)\n",
      "/var/folders/dh/551p960n6mv9t9byzj8pp0640000gp/T/ipykernel_16542/3929881324.py:23: RuntimeWarning: This filename (/Users/BAEK/Code/neurEx/data/N170/Data_Preprocessed/sub-024/Epochs_sub-024.fif) does not conform to MNE naming conventions. All epochs files should end with -epo.fif, -epo.fif.gz, _epo.fif or _epo.fif.gz\n",
      "  X_subject = mne.read_epochs(X_file, preload=True, verbose=False)\n"
     ]
    },
    {
     "name": "stdout",
     "output_type": "stream",
     "text": [
      "Loading data for sub-039\n",
      "Loading data for sub-006\n"
     ]
    },
    {
     "name": "stderr",
     "output_type": "stream",
     "text": [
      "/var/folders/dh/551p960n6mv9t9byzj8pp0640000gp/T/ipykernel_16542/3929881324.py:23: RuntimeWarning: This filename (/Users/BAEK/Code/neurEx/data/N170/Data_Preprocessed/sub-039/Epochs_sub-039.fif) does not conform to MNE naming conventions. All epochs files should end with -epo.fif, -epo.fif.gz, _epo.fif or _epo.fif.gz\n",
      "  X_subject = mne.read_epochs(X_file, preload=True, verbose=False)\n",
      "/var/folders/dh/551p960n6mv9t9byzj8pp0640000gp/T/ipykernel_16542/3929881324.py:23: RuntimeWarning: This filename (/Users/BAEK/Code/neurEx/data/N170/Data_Preprocessed/sub-006/Epochs_sub-006.fif) does not conform to MNE naming conventions. All epochs files should end with -epo.fif, -epo.fif.gz, _epo.fif or _epo.fif.gz\n",
      "  X_subject = mne.read_epochs(X_file, preload=True, verbose=False)\n"
     ]
    },
    {
     "name": "stdout",
     "output_type": "stream",
     "text": [
      "Loading data for sub-001\n",
      "Loading data for sub-008\n",
      "Loading data for sub-037\n"
     ]
    },
    {
     "name": "stderr",
     "output_type": "stream",
     "text": [
      "/var/folders/dh/551p960n6mv9t9byzj8pp0640000gp/T/ipykernel_16542/3929881324.py:23: RuntimeWarning: This filename (/Users/BAEK/Code/neurEx/data/N170/Data_Preprocessed/sub-001/Epochs_sub-001.fif) does not conform to MNE naming conventions. All epochs files should end with -epo.fif, -epo.fif.gz, _epo.fif or _epo.fif.gz\n",
      "  X_subject = mne.read_epochs(X_file, preload=True, verbose=False)\n",
      "/var/folders/dh/551p960n6mv9t9byzj8pp0640000gp/T/ipykernel_16542/3929881324.py:23: RuntimeWarning: This filename (/Users/BAEK/Code/neurEx/data/N170/Data_Preprocessed/sub-008/Epochs_sub-008.fif) does not conform to MNE naming conventions. All epochs files should end with -epo.fif, -epo.fif.gz, _epo.fif or _epo.fif.gz\n",
      "  X_subject = mne.read_epochs(X_file, preload=True, verbose=False)\n",
      "/var/folders/dh/551p960n6mv9t9byzj8pp0640000gp/T/ipykernel_16542/3929881324.py:23: RuntimeWarning: This filename (/Users/BAEK/Code/neurEx/data/N170/Data_Preprocessed/sub-037/Epochs_sub-037.fif) does not conform to MNE naming conventions. All epochs files should end with -epo.fif, -epo.fif.gz, _epo.fif or _epo.fif.gz\n",
      "  X_subject = mne.read_epochs(X_file, preload=True, verbose=False)\n"
     ]
    },
    {
     "name": "stdout",
     "output_type": "stream",
     "text": [
      "Loading data for sub-030\n",
      "Loading data for sub-031\n"
     ]
    },
    {
     "name": "stderr",
     "output_type": "stream",
     "text": [
      "/var/folders/dh/551p960n6mv9t9byzj8pp0640000gp/T/ipykernel_16542/3929881324.py:23: RuntimeWarning: This filename (/Users/BAEK/Code/neurEx/data/N170/Data_Preprocessed/sub-030/Epochs_sub-030.fif) does not conform to MNE naming conventions. All epochs files should end with -epo.fif, -epo.fif.gz, _epo.fif or _epo.fif.gz\n",
      "  X_subject = mne.read_epochs(X_file, preload=True, verbose=False)\n",
      "/var/folders/dh/551p960n6mv9t9byzj8pp0640000gp/T/ipykernel_16542/3929881324.py:23: RuntimeWarning: This filename (/Users/BAEK/Code/neurEx/data/N170/Data_Preprocessed/sub-031/Epochs_sub-031.fif) does not conform to MNE naming conventions. All epochs files should end with -epo.fif, -epo.fif.gz, _epo.fif or _epo.fif.gz\n",
      "  X_subject = mne.read_epochs(X_file, preload=True, verbose=False)\n"
     ]
    },
    {
     "name": "stdout",
     "output_type": "stream",
     "text": [
      "Loading data for sub-009\n",
      "Loading data for sub-036\n"
     ]
    },
    {
     "name": "stderr",
     "output_type": "stream",
     "text": [
      "/var/folders/dh/551p960n6mv9t9byzj8pp0640000gp/T/ipykernel_16542/3929881324.py:23: RuntimeWarning: This filename (/Users/BAEK/Code/neurEx/data/N170/Data_Preprocessed/sub-009/Epochs_sub-009.fif) does not conform to MNE naming conventions. All epochs files should end with -epo.fif, -epo.fif.gz, _epo.fif or _epo.fif.gz\n",
      "  X_subject = mne.read_epochs(X_file, preload=True, verbose=False)\n",
      "/var/folders/dh/551p960n6mv9t9byzj8pp0640000gp/T/ipykernel_16542/3929881324.py:23: RuntimeWarning: This filename (/Users/BAEK/Code/neurEx/data/N170/Data_Preprocessed/sub-036/Epochs_sub-036.fif) does not conform to MNE naming conventions. All epochs files should end with -epo.fif, -epo.fif.gz, _epo.fif or _epo.fif.gz\n",
      "  X_subject = mne.read_epochs(X_file, preload=True, verbose=False)\n"
     ]
    },
    {
     "name": "stdout",
     "output_type": "stream",
     "text": [
      "Loading data for sub-038\n",
      "Loading data for sub-007\n"
     ]
    },
    {
     "name": "stderr",
     "output_type": "stream",
     "text": [
      "/var/folders/dh/551p960n6mv9t9byzj8pp0640000gp/T/ipykernel_16542/3929881324.py:23: RuntimeWarning: This filename (/Users/BAEK/Code/neurEx/data/N170/Data_Preprocessed/sub-038/Epochs_sub-038.fif) does not conform to MNE naming conventions. All epochs files should end with -epo.fif, -epo.fif.gz, _epo.fif or _epo.fif.gz\n",
      "  X_subject = mne.read_epochs(X_file, preload=True, verbose=False)\n",
      "/var/folders/dh/551p960n6mv9t9byzj8pp0640000gp/T/ipykernel_16542/3929881324.py:23: RuntimeWarning: This filename (/Users/BAEK/Code/neurEx/data/N170/Data_Preprocessed/sub-007/Epochs_sub-007.fif) does not conform to MNE naming conventions. All epochs files should end with -epo.fif, -epo.fif.gz, _epo.fif or _epo.fif.gz\n",
      "  X_subject = mne.read_epochs(X_file, preload=True, verbose=False)\n"
     ]
    }
   ],
   "source": [
    "\n",
    "# Data Preparation\n",
    "# Define the data directory where subject folders are located\n",
    "data_dir = '/Users/BAEK/Code/neurEx/data/N170/Data_Preprocessed'\n",
    "\n",
    "# List all subject folders\n",
    "subject_folders = [f for f in os.listdir(data_dir) if os.path.isdir(os.path.join(data_dir, f))]\n",
    "\n",
    "# Initialize lists to hold data and labels from all subjects\n",
    "X_list = []\n",
    "y_list = []\n",
    "\n",
    "# Loop over each subject folder\n",
    "for subject in subject_folders:\n",
    "    subject_data_dir = os.path.join(data_dir, subject)\n",
    "    # Construct file paths for the subject's data\n",
    "    X_file = os.path.join(subject_data_dir, f'Epochs_{subject}.fif')\n",
    "    y_file = os.path.join(subject_data_dir, f'y_labels_{subject}.npy')\n",
    "    \n",
    "    # Check if data files exist\n",
    "    if os.path.exists(X_file) and os.path.exists(y_file):\n",
    "        print(f'Loading data for {subject}')\n",
    "        # Load the data\n",
    "        X_subject = mne.read_epochs(X_file, preload=True, verbose=False)\n",
    "        y_subject = np.load(y_file)\n",
    "        # Append to the list\n",
    "        X_sub_data = X_subject.get_data()\n",
    "        X_list.append(X_sub_data)\n",
    "        y_list.append(y_subject)\n",
    "    else:\n",
    "        print(f'Data files not found for {subject}')\n",
    "\n",
    "# Ensure that at least one subject has been loaded\n",
    "if len(X_list) == 0:\n",
    "    raise ValueError(\"No data was loaded. Please check your data directory and files.\")\n",
    "\n",
    "# Get channel names from the last loaded subject\n",
    "channels = X_subject.ch_names\n",
    "coi = ['P8', 'PO8', 'O2', 'P10']\n",
    "chan_idx = [channels.index(chan) for chan in coi]\n"
   ]
  },
  {
   "cell_type": "code",
   "execution_count": 4,
   "metadata": {},
   "outputs": [
    {
     "name": "stdout",
     "output_type": "stream",
     "text": [
      "Combined data shape before filtering: X=(23602, 4, 820), y=(23602,)\n",
      "Combined data shape after filtering: X=(6104, 4, 820), y=(6104,)\n"
     ]
    },
    {
     "data": {
      "text/plain": [
       "array([-2.65535473e-07, -2.33084976e-07, -2.56221681e-07, -3.35722922e-07,\n",
       "       -4.71088408e-07, -6.60497783e-07, -9.00880692e-07, -1.18786204e-06,\n",
       "       -1.51586949e-06, -1.87812459e-06, -2.26676702e-06, -2.67311763e-06,\n",
       "       -3.08767533e-06, -3.50033306e-06, -3.90088247e-06, -4.27891778e-06,\n",
       "       -4.62421035e-06, -4.92699383e-06, -5.17809914e-06, -5.36951111e-06,\n",
       "       -5.49421166e-06, -5.54619740e-06, -5.52102088e-06, -5.41581248e-06,\n",
       "       -5.22933673e-06, -4.96202801e-06, -4.61585473e-06, -4.19435119e-06,\n",
       "       -3.70253657e-06, -3.14671301e-06, -2.53441977e-06, -1.87421798e-06,\n",
       "       -1.17549646e-06, -4.48325484e-07,  2.96874105e-07,  1.04961514e-06,\n",
       "        1.79936683e-06,  2.53584337e-06,  3.24924111e-06,  3.93041848e-06,\n",
       "        4.57091855e-06,  5.16319560e-06,  5.70080136e-06,  6.17847393e-06,\n",
       "        6.59201477e-06,  6.93824957e-06,  7.21520756e-06,  7.42191790e-06,\n",
       "        7.55842064e-06,  7.62581203e-06,  7.62584541e-06,  7.56124113e-06,\n",
       "        7.43529985e-06,  7.25198172e-06,  7.01556442e-06,  6.73096894e-06,\n",
       "        6.40343235e-06,  6.03826998e-06,  5.64088057e-06,  5.21691702e-06,\n",
       "        4.77197837e-06,  4.31159448e-06,  3.84124278e-06,  3.36638641e-06,\n",
       "        2.89221906e-06,  2.42390560e-06,  1.96652901e-06,  1.52481222e-06,\n",
       "        1.10321057e-06,  7.05951629e-07,  3.36879789e-07, -5.09837175e-10,\n",
       "       -3.03096621e-07, -5.68101464e-07, -7.93489514e-07, -9.77722762e-07,\n",
       "       -1.11973417e-06, -1.21901905e-06, -1.27566862e-06, -1.29047739e-06,\n",
       "       -1.26481735e-06, -1.20055294e-06, -1.10021996e-06, -9.66808793e-07,\n",
       "       -8.03887902e-07, -6.15385769e-07, -4.05521183e-07, -1.79039269e-07,\n",
       "        5.93880190e-08,  3.05053800e-07,  5.53013145e-07,  7.98585830e-07,\n",
       "        1.03721082e-06,  1.26473081e-06,  1.47720015e-06,  1.67114651e-06,\n",
       "        1.84364616e-06,  1.99222230e-06,  2.11499428e-06,  2.21065354e-06,\n",
       "        2.27832317e-06,  2.31764697e-06])"
      ]
     },
     "execution_count": 4,
     "metadata": {},
     "output_type": "execute_result"
    }
   ],
   "source": [
    "\n",
    "# Concatenate data from all subjects\n",
    "X = np.concatenate(X_list, axis=0)\n",
    "X = X[:, chan_idx, :]  # Select channels of interest\n",
    "y = np.concatenate(y_list, axis=0)\n",
    "\n",
    "print(f'Combined data shape before filtering: X={X.shape}, y={y.shape}')\n",
    "\n",
    "# Filter stimulus events\n",
    "stimulus_labels = [1, 2]  # 1: Face, 2: Car\n",
    "stimulus_mask = np.isin(y, stimulus_labels)\n",
    "X = X[stimulus_mask]\n",
    "y = y[stimulus_mask]\n",
    "\n",
    "# Adjust labels to start from 0\n",
    "y = y - 1\n",
    "\n",
    "# Focus on the N170 response by selecting data around 170 ms\n",
    "tmin, tmax = 0.1, 0.2  # 100 ms to 200 ms\n",
    "times = X_subject.times  # Time vector from the epochs\n",
    "time_mask = (times >= tmin) & (times <= tmax)\n",
    "X_focused = X[:, :, time_mask]\n",
    "\n",
    "print(f'Combined data shape after filtering: X={X.shape}, y={y.shape}')\n",
    "\n",
    "X_focused[0,0]"
   ]
  },
  {
   "cell_type": "code",
   "execution_count": 5,
   "metadata": {},
   "outputs": [
    {
     "name": "stdout",
     "output_type": "stream",
     "text": [
      "(6104, 4, 102)\n"
     ]
    },
    {
     "data": {
      "text/plain": [
       "array([[[-2.65535473e-07, -2.33084976e-07, -2.56221681e-07, ...,\n",
       "          2.21065354e-06,  2.27832317e-06,  2.31764697e-06],\n",
       "        [ 1.52646923e-06,  1.55423677e-06,  1.55282390e-06, ...,\n",
       "          7.41099594e-07,  9.07904801e-07,  1.05732774e-06],\n",
       "        [-7.22147654e-06, -7.38670919e-06, -7.53458689e-06, ...,\n",
       "         -4.07241284e-07, -2.46243744e-07, -8.30428524e-08],\n",
       "        [ 5.03884314e-06,  5.25305508e-06,  5.36733101e-06, ...,\n",
       "          8.15229414e-06,  8.16074655e-06,  8.08678148e-06]],\n",
       "\n",
       "       [[-1.47737646e-06, -1.67229044e-06, -1.82316827e-06, ...,\n",
       "          3.79423474e-06,  3.87306189e-06,  3.89641451e-06],\n",
       "        [-6.68424724e-07, -6.97640298e-07, -7.08379923e-07, ...,\n",
       "         -1.09889269e-06, -8.65716336e-07, -6.51313899e-07],\n",
       "        [-7.48422084e-07, -9.07281396e-07, -1.03889632e-06, ...,\n",
       "         -8.53871045e-07, -6.54174386e-07, -4.62437718e-07],\n",
       "        [-4.21238231e-06, -4.83159445e-06, -5.40723513e-06, ...,\n",
       "         -1.00315418e-08,  2.54398673e-07,  5.16855537e-07]],\n",
       "\n",
       "       [[-1.58109676e-06, -1.59698379e-06, -1.62114536e-06, ...,\n",
       "          9.26621018e-07,  8.29454003e-07,  7.13630019e-07],\n",
       "        [-4.45750903e-06, -4.44266032e-06, -4.42975663e-06, ...,\n",
       "          2.08250570e-06,  2.06292653e-06,  2.02929306e-06],\n",
       "        [-7.26043127e-06, -7.20383261e-06, -7.18244503e-06, ...,\n",
       "         -4.33158683e-06, -4.11023377e-06, -3.90746092e-06],\n",
       "        [ 2.11854290e-06,  1.82837104e-06,  1.53560948e-06, ...,\n",
       "         -2.51281231e-07, -6.76515637e-07, -1.08717251e-06]],\n",
       "\n",
       "       ...,\n",
       "\n",
       "       [[-2.41856908e-06, -2.79457211e-06, -3.19109940e-06, ...,\n",
       "         -2.42563176e-06, -2.00228238e-06, -1.71271193e-06],\n",
       "        [-6.96223853e-07, -6.26056312e-07, -4.53751146e-07, ...,\n",
       "          5.96395443e-06,  6.74311493e-06,  7.50302313e-06],\n",
       "        [ 3.95886778e-07,  4.29583042e-07,  5.65602897e-07, ...,\n",
       "          5.21327113e-06,  5.82447718e-06,  6.48118637e-06],\n",
       "        [ 1.04313421e-06,  8.32708297e-07,  5.80027221e-07, ...,\n",
       "          8.27353857e-06,  8.85092542e-06,  9.35755155e-06]],\n",
       "\n",
       "       [[ 2.70915841e-06,  3.19704007e-06,  3.67138456e-06, ...,\n",
       "          2.98408722e-06,  2.79047846e-06,  2.55993509e-06],\n",
       "        [ 7.13312815e-06,  7.51920269e-06,  7.85860489e-06, ...,\n",
       "          3.97416948e-06,  4.26586150e-06,  4.53748416e-06],\n",
       "        [ 1.17926740e-05,  1.24428749e-05,  1.30259113e-05, ...,\n",
       "          1.09956960e-05,  1.13510370e-05,  1.16468868e-05],\n",
       "        [ 1.89418709e-06,  2.10378980e-06,  2.27546334e-06, ...,\n",
       "          7.46997593e-07,  8.92711339e-07,  1.05645668e-06]],\n",
       "\n",
       "       [[ 3.04348611e-06,  2.54423522e-06,  1.99804985e-06, ...,\n",
       "         -7.77291475e-07, -1.00802660e-06, -1.27954244e-06],\n",
       "        [ 7.12797640e-06,  7.01452778e-06,  6.88476227e-06, ...,\n",
       "          1.06899452e-05,  1.06339998e-05,  1.05105028e-05],\n",
       "        [ 8.32707117e-06,  8.15730665e-06,  7.90702293e-06, ...,\n",
       "          9.06495855e-06,  8.92041776e-06,  8.70979688e-06],\n",
       "        [ 5.80448149e-06,  5.73677491e-06,  5.66561602e-06, ...,\n",
       "          9.76266858e-06,  9.35750959e-06,  8.83536909e-06]]])"
      ]
     },
     "execution_count": 5,
     "metadata": {},
     "output_type": "execute_result"
    }
   ],
   "source": [
    "print(X_focused.shape)\n",
    "\n",
    "X_focused"
   ]
  },
  {
   "cell_type": "code",
   "execution_count": 8,
   "metadata": {},
   "outputs": [
    {
     "name": "stdout",
     "output_type": "stream",
     "text": [
      "Augmented data shape: X=(36624, 4, 102, 1), y=(36624,)\n"
     ]
    },
    {
     "data": {
      "text/plain": [
       "array([[[[-0.31605341],\n",
       "         [-0.32619682],\n",
       "         [-0.34412525],\n",
       "         ...,\n",
       "         [ 0.32308469],\n",
       "         [ 0.31376044],\n",
       "         [ 0.30061452]],\n",
       "\n",
       "        [[-0.11632468],\n",
       "         [-0.12962838],\n",
       "         [-0.14648719],\n",
       "         ...,\n",
       "         [-0.11461243],\n",
       "         [-0.11596127],\n",
       "         [-0.11936317]],\n",
       "\n",
       "        [[-0.99076982],\n",
       "         [-1.01335294],\n",
       "         [-1.03497392],\n",
       "         ...,\n",
       "         [-0.41966924],\n",
       "         [-0.41317054],\n",
       "         [-0.40664085]],\n",
       "\n",
       "        [[ 0.28014587],\n",
       "         [ 0.29523614],\n",
       "         [ 0.29830576],\n",
       "         ...,\n",
       "         [ 0.88123175],\n",
       "         [ 0.86926358],\n",
       "         [ 0.84805751]]],\n",
       "\n",
       "\n",
       "       [[[-0.31605341],\n",
       "         [-0.32619682],\n",
       "         [-0.34412525],\n",
       "         ...,\n",
       "         [ 0.32308469],\n",
       "         [ 0.31376044],\n",
       "         [ 0.30061452]],\n",
       "\n",
       "        [[-0.11632468],\n",
       "         [-0.12962838],\n",
       "         [-0.14648719],\n",
       "         ...,\n",
       "         [-0.11461243],\n",
       "         [-0.11596127],\n",
       "         [-0.11936317]],\n",
       "\n",
       "        [[-0.99076982],\n",
       "         [-1.01335294],\n",
       "         [-1.03497392],\n",
       "         ...,\n",
       "         [-0.41966924],\n",
       "         [-0.41317054],\n",
       "         [-0.40664085]],\n",
       "\n",
       "        [[ 0.28014587],\n",
       "         [ 0.29523614],\n",
       "         [ 0.29830576],\n",
       "         ...,\n",
       "         [ 0.88123175],\n",
       "         [ 0.86926358],\n",
       "         [ 0.84805751]]],\n",
       "\n",
       "\n",
       "       [[[-0.31605341],\n",
       "         [-0.32619682],\n",
       "         [-0.34412525],\n",
       "         ...,\n",
       "         [ 0.32308469],\n",
       "         [ 0.31376044],\n",
       "         [ 0.30061452]],\n",
       "\n",
       "        [[-0.11632468],\n",
       "         [-0.12962838],\n",
       "         [-0.14648719],\n",
       "         ...,\n",
       "         [-0.11461243],\n",
       "         [-0.11596127],\n",
       "         [-0.11936317]],\n",
       "\n",
       "        [[-0.99076982],\n",
       "         [-1.01335294],\n",
       "         [-1.03497392],\n",
       "         ...,\n",
       "         [-0.41966924],\n",
       "         [-0.41317054],\n",
       "         [-0.40664085]],\n",
       "\n",
       "        [[ 0.28014587],\n",
       "         [ 0.29523614],\n",
       "         [ 0.29830576],\n",
       "         ...,\n",
       "         [ 0.88123175],\n",
       "         [ 0.86926358],\n",
       "         [ 0.84805751]]],\n",
       "\n",
       "\n",
       "       ...,\n",
       "\n",
       "\n",
       "       [[[ 0.14724637],\n",
       "         [ 0.06153537],\n",
       "         [-0.03029612],\n",
       "         ...,\n",
       "         [-0.08484899],\n",
       "         [-0.13388489],\n",
       "         [-0.18827787]],\n",
       "\n",
       "        [[ 0.53582672],\n",
       "         [ 0.50408512],\n",
       "         [ 0.47053158],\n",
       "         ...,\n",
       "         [ 0.99820162],\n",
       "         [ 0.96918532],\n",
       "         [ 0.93286022]],\n",
       "\n",
       "        [[ 0.9448504 ],\n",
       "         [ 0.91554101],\n",
       "         [ 0.87572254],\n",
       "         ...,\n",
       "         [ 0.79558872],\n",
       "         [ 0.76045166],\n",
       "         [ 0.71677905]],\n",
       "\n",
       "        [[ 0.36941967],\n",
       "         [ 0.35157934],\n",
       "         [ 0.33301539],\n",
       "         ...,\n",
       "         [ 1.06390236],\n",
       "         [ 1.00502702],\n",
       "         [ 0.93298101]]],\n",
       "\n",
       "\n",
       "       [[[ 0.14724637],\n",
       "         [ 0.06153537],\n",
       "         [-0.03029612],\n",
       "         ...,\n",
       "         [-0.08484899],\n",
       "         [-0.13388489],\n",
       "         [-0.18827787]],\n",
       "\n",
       "        [[ 0.53582672],\n",
       "         [ 0.50408512],\n",
       "         [ 0.47053158],\n",
       "         ...,\n",
       "         [ 0.99820162],\n",
       "         [ 0.96918532],\n",
       "         [ 0.93286022]],\n",
       "\n",
       "        [[ 0.9448504 ],\n",
       "         [ 0.91554101],\n",
       "         [ 0.87572254],\n",
       "         ...,\n",
       "         [ 0.79558872],\n",
       "         [ 0.76045166],\n",
       "         [ 0.71677905]],\n",
       "\n",
       "        [[ 0.36941967],\n",
       "         [ 0.35157934],\n",
       "         [ 0.33301539],\n",
       "         ...,\n",
       "         [ 1.06390236],\n",
       "         [ 1.00502702],\n",
       "         [ 0.93298101]]],\n",
       "\n",
       "\n",
       "       [[[ 0.15339741],\n",
       "         [ 0.04432844],\n",
       "         [-0.03829966],\n",
       "         ...,\n",
       "         [-0.097149  ],\n",
       "         [-0.14829737],\n",
       "         [-0.18918527]],\n",
       "\n",
       "        [[ 0.53968967],\n",
       "         [ 0.50044584],\n",
       "         [ 0.47422652],\n",
       "         ...,\n",
       "         [ 1.01141831],\n",
       "         [ 0.97525017],\n",
       "         [ 0.93160971]],\n",
       "\n",
       "        [[ 0.9394367 ],\n",
       "         [ 0.91032091],\n",
       "         [ 0.8665493 ],\n",
       "         ...,\n",
       "         [ 0.80057457],\n",
       "         [ 0.75727821],\n",
       "         [ 0.72908468]],\n",
       "\n",
       "        [[ 0.37699354],\n",
       "         [ 0.3508358 ],\n",
       "         [ 0.33444826],\n",
       "         ...,\n",
       "         [ 1.07079015],\n",
       "         [ 1.00121865],\n",
       "         [ 0.95038788]]]])"
      ]
     },
     "execution_count": 8,
     "metadata": {},
     "output_type": "execute_result"
    }
   ],
   "source": [
    "\n",
    "# Normalize data per channel\n",
    "def normalize_per_channel(X_data):\n",
    "    X_norm = np.zeros_like(X_data)\n",
    "    for i in range(X_data.shape[1]):  # Loop over channels\n",
    "        scaler = StandardScaler()\n",
    "        X_channel = X_data[:, i, :]\n",
    "        X_norm[:, i, :] = scaler.fit_transform(X_channel)\n",
    "    return X_norm\n",
    "\n",
    "X = normalize_per_channel(X_focused)\n",
    "\n",
    "# Reshape data for Conv2D (samples, channels, times, 1)\n",
    "X = X.transpose((0, 1, 2))  # Shape: (samples, channels, times)\n",
    "X = X[..., np.newaxis]  # Shape: (samples, channels, times, 1)\n",
    "\n",
    "# Data Augmentation\n",
    "def augment_data(X, y):\n",
    "    X_augmented = []\n",
    "    y_augmented = []\n",
    "    for i in range(X.shape[0]):\n",
    "        # Original data\n",
    "        X_augmented.append(X[i])\n",
    "        y_augmented.append(y[i])\n",
    "\n",
    "        # Time-shifted data\n",
    "        for shift in [-2, -1, 1, 2]:  # Shift by 1 or 2 time steps\n",
    "            X_shifted = np.roll(X[i], shift, axis=2)\n",
    "            X_augmented.append(X_shifted)\n",
    "            y_augmented.append(y[i])\n",
    "\n",
    "        # Noise-injected data\n",
    "        noise = np.random.normal(0, 0.01, X[i].shape)\n",
    "        X_noisy = X[i] + noise\n",
    "        X_augmented.append(X_noisy)\n",
    "        y_augmented.append(y[i])\n",
    "\n",
    "    return np.array(X_augmented), np.array(y_augmented)\n",
    "\n",
    "# Apply augmentation on the whole dataset before splitting\n",
    "X_aug, y_aug = augment_data(X, y)\n",
    "\n",
    "print(f'Augmented data shape: X={X_aug.shape}, y={y_aug.shape}')\n",
    "\n",
    "X_aug\n"
   ]
  },
  {
   "cell_type": "code",
   "execution_count": null,
   "metadata": {},
   "outputs": [],
   "source": [
    "\n",
    "# Split data into training and testing sets\n",
    "X_train_val, X_test, y_train_val, y_test = train_test_split(\n",
    "    X_aug, y_aug, test_size=0.2, random_state=42, stratify=y_aug)\n",
    "\n",
    "# Model Implementation using DeepConvNet\n",
    "def DeepConvNet(nb_classes, Chans=4, Samples=50, dropoutRate=0.5):\n",
    "    input_main = Input((Chans, Samples, 1))\n",
    "    \n",
    "    # Block 1\n",
    "    block1 = Conv2D(25, (1, 5), padding='same', use_bias=False)(input_main)\n",
    "    block1 = Conv2D(25, (Chans, 1), use_bias=False)(block1)\n",
    "    block1 = BatchNormalization()(block1)\n",
    "    block1 = Activation('elu')(block1)\n",
    "    block1 = MaxPooling2D((1, 2))(block1)\n",
    "    block1 = Dropout(0.2)(block1)\n",
    "    \n",
    "    # Block 2\n",
    "    block2 = Conv2D(50, (1, 5), padding='same', use_bias=False)(block1)\n",
    "    block2 = BatchNormalization()(block2)\n",
    "    block2 = Activation('elu')(block2)\n",
    "    block2 = MaxPooling2D((1, 2))(block2)\n",
    "    block2 = Dropout(0.3)(block2)\n",
    "    \n",
    "    # Block 3\n",
    "    block3 = Conv2D(100, (1, 5), padding='same', use_bias=False)(block2)\n",
    "    block3 = BatchNormalization()(block3)\n",
    "    block3 = Activation('elu')(block3)\n",
    "    block3 = MaxPooling2D((1, 2))(block3)\n",
    "    block3 = Dropout(0.4)(block3)\n",
    "    \n",
    "    # Block 4\n",
    "    block4 = Conv2D(200, (1, 5), padding='same', use_bias=False)(block3)\n",
    "    block4 = BatchNormalization()(block4)\n",
    "    block4 = Activation('elu')(block4)\n",
    "    block4 = MaxPooling2D((1, 2))(block4)\n",
    "    block4 = Dropout(0.5)(block4)\n",
    "    \n",
    "    # Flatten and Dense Layers\n",
    "    flatten = Flatten()(block4)\n",
    "    dense = Dense(nb_classes)(flatten)\n",
    "    softmax = Activation('softmax')(dense)\n",
    "    \n",
    "    return Model(inputs=input_main, outputs=softmax)\n",
    "\n",
    "# Parameters for DeepConvNet\n",
    "Chans = X.shape[1]\n",
    "Samples = X.shape[2]\n",
    "nb_classes = 2  # Binary classification\n",
    "\n",
    "# Compile the model\n",
    "model = DeepConvNet(nb_classes=nb_classes, Chans=Chans, Samples=Samples, dropoutRate=0.5)\n",
    "model.compile(optimizer=Adam(learning_rate=1e-3),\n",
    "              loss='sparse_categorical_crossentropy',\n",
    "              metrics=['accuracy'])\n",
    "\n",
    "# Adjust EarlyStopping and ReduceLROnPlateau\n",
    "early_stopping = EarlyStopping(monitor='val_loss', patience=25, restore_best_weights=True)\n",
    "reduce_lr = ReduceLROnPlateau(monitor='val_loss', factor=0.5, patience=10,\n",
    "                              min_lr=1e-6, verbose=1)\n",
    "\n",
    "# Training\n",
    "epochs = 500\n",
    "batch_size = 16  # Keep batch size small for better gradient estimation\n",
    "\n",
    "# Train the model\n",
    "history = model.fit(X_train_val, y_train_val,\n",
    "                    epochs=epochs,\n",
    "                    batch_size=batch_size,\n",
    "                    validation_data=(X_test, y_test),\n",
    "                    callbacks=[early_stopping, reduce_lr],\n",
    "                    verbose=1)\n",
    "\n",
    "# Evaluation and Visualization\n",
    "# Evaluate on test data\n",
    "test_loss, test_accuracy = model.evaluate(X_test, y_test, verbose=0)\n",
    "print(f'Test Accuracy: {test_accuracy * 100:.2f}%')\n",
    "\n",
    "# Visualize training history\n",
    "# Plot accuracy\n",
    "plt.figure(figsize=(12, 4))\n",
    "plt.subplot(1, 2, 1)\n",
    "plt.plot(history.history['accuracy'], label='Train Accuracy', color='blue')\n",
    "plt.plot(history.history['val_accuracy'], label='Validation Accuracy', color='orange')\n",
    "plt.title('Model Accuracy')\n",
    "plt.xlabel('Epoch')\n",
    "plt.ylabel('Accuracy')\n",
    "plt.legend()\n",
    "\n",
    "# Plot loss\n",
    "plt.subplot(1, 2, 2)\n",
    "plt.plot(history.history['loss'], label='Train Loss', color='blue')\n",
    "plt.plot(history.history['val_loss'], label='Validation Loss', color='orange')\n",
    "plt.title('Model Loss')\n",
    "plt.xlabel('Epoch')\n",
    "plt.ylabel('Loss')\n",
    "plt.legend()\n",
    "\n",
    "plt.tight_layout()\n",
    "plt.show()\n",
    "\n",
    "# Predictions\n",
    "y_pred_prob = model.predict(X_test)\n",
    "y_pred = np.argmax(y_pred_prob, axis=1)\n",
    "\n",
    "# Confusion Matrix and Classification Report\n",
    "cm = confusion_matrix(y_test, y_pred)\n",
    "\n",
    "plt.figure(figsize=(8, 6))\n",
    "sns.heatmap(cm, annot=True, fmt='d', cmap='Blues',\n",
    "            xticklabels=['Face', 'Car'],\n",
    "            yticklabels=['Face', 'Car'])\n",
    "plt.xlabel('Predicted Label')\n",
    "plt.ylabel('True Label')\n",
    "plt.title('Confusion Matrix')\n",
    "plt.show()\n",
    "\n",
    "print(classification_report(y_test, y_pred, target_names=['Face', 'Car']))\n"
   ]
  },
  {
   "cell_type": "code",
   "execution_count": 88,
   "metadata": {},
   "outputs": [],
   "source": [
    "model.save('/Users/owenanderson/Documents/NeurEx/Projects/P1_N170/Models/V2.keras')"
   ]
  }
 ],
 "metadata": {
  "kernelspec": {
   "display_name": "n170",
   "language": "python",
   "name": "python3"
  },
  "language_info": {
   "codemirror_mode": {
    "name": "ipython",
    "version": 3
   },
   "file_extension": ".py",
   "mimetype": "text/x-python",
   "name": "python",
   "nbconvert_exporter": "python",
   "pygments_lexer": "ipython3",
   "version": "3.10.15"
  }
 },
 "nbformat": 4,
 "nbformat_minor": 2
}
